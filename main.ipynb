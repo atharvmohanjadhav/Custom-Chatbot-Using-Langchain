{
 "cells": [
  {
   "cell_type": "code",
   "execution_count": 1,
   "metadata": {},
   "outputs": [
    {
     "name": "stderr",
     "output_type": "stream",
     "text": [
      "USER_AGENT environment variable not set, consider setting it to identify your requests.\n"
     ]
    }
   ],
   "source": [
    "from langchain_community.document_loaders import WebBaseLoader\n",
    "from langchain.text_splitter import RecursiveCharacterTextSplitter\n",
    "import os"
   ]
  },
  {
   "cell_type": "code",
   "execution_count": 2,
   "metadata": {},
   "outputs": [],
   "source": [
    "from dotenv import load_dotenv\n",
    "import streamlit as st"
   ]
  },
  {
   "cell_type": "code",
   "execution_count": 3,
   "metadata": {},
   "outputs": [
    {
     "name": "stderr",
     "output_type": "stream",
     "text": [
      "2025-02-25 16:36:04.043 WARNING streamlit.runtime.scriptrunner_utils.script_run_context: Thread 'MainThread': missing ScriptRunContext! This warning can be ignored when running in bare mode.\n",
      "2025-02-25 16:36:04.879 \n",
      "  \u001b[33m\u001b[1mWarning:\u001b[0m to view this Streamlit app on a browser, run it with the following\n",
      "  command:\n",
      "\n",
      "    streamlit run d:\\My projects\\Custom Chatbot\\venv\\Lib\\site-packages\\ipykernel_launcher.py [ARGUMENTS]\n",
      "2025-02-25 16:36:04.881 Thread 'MainThread': missing ScriptRunContext! This warning can be ignored when running in bare mode.\n",
      "2025-02-25 16:36:04.882 Thread 'MainThread': missing ScriptRunContext! This warning can be ignored when running in bare mode.\n",
      "2025-02-25 16:36:04.883 Thread 'MainThread': missing ScriptRunContext! This warning can be ignored when running in bare mode.\n",
      "2025-02-25 16:36:04.884 Thread 'MainThread': missing ScriptRunContext! This warning can be ignored when running in bare mode.\n",
      "2025-02-25 16:36:04.887 Thread 'MainThread': missing ScriptRunContext! This warning can be ignored when running in bare mode.\n",
      "2025-02-25 16:36:04.888 Thread 'MainThread': missing ScriptRunContext! This warning can be ignored when running in bare mode.\n"
     ]
    },
    {
     "name": "stdout",
     "output_type": "stream",
     "text": [
      "\n",
      "\n",
      "\n",
      "\n",
      "\n",
      "\n",
      "\n",
      "\n",
      "\n",
      "Cricket Live Scores, Stats, Schedules, Fixtures & News\n",
      "\n",
      "\n",
      "\n",
      "\n",
      "\n",
      "\n",
      "\n",
      "\n",
      "\n",
      "\n",
      "\n",
      "\n",
      "\n",
      "\n",
      "\n",
      "\n",
      "\n",
      "\n",
      "\n",
      "\n",
      "\n",
      "\n",
      "\n",
      "\n",
      "\n",
      "\n",
      "\n",
      "\n",
      "\n",
      "\n",
      "\n",
      "\n",
      "\n",
      "\n",
      "\n",
      "\n",
      "\n",
      "\n",
      "\n",
      "\n",
      "\n",
      "\n",
      "\n",
      "\n",
      "\n",
      "\n",
      "\n",
      "\n",
      "\n",
      "\n",
      "\n",
      "\n",
      "\n",
      "\n",
      "\n",
      "\n",
      "\n",
      "\n",
      "\n",
      "\n",
      "\n",
      "\n",
      "\n",
      "\n",
      "\n",
      "\n",
      "\n",
      "\n",
      "\n",
      "\n",
      "\n",
      "\n",
      "\n",
      "\n",
      "        Skip to main content\n",
      "    \n",
      "\n",
      "        Skip to navigation\n",
      "    \n",
      "\n",
      "\n",
      "\n",
      "\n",
      "\n",
      "\n",
      "\n",
      "\n",
      "\n",
      "\n",
      "\n",
      "\n",
      "\n",
      "\n",
      "\n",
      "\n",
      "\n",
      "\n",
      "\n",
      "\n",
      "\n",
      "\n",
      "\n",
      "\n",
      "\n",
      "\n",
      "\n",
      "\n",
      "\n",
      "\n",
      "\n",
      "\n",
      "\n",
      "<\n",
      "\n",
      ">\n",
      "\n",
      "\n",
      "\n",
      "\n",
      "\n",
      "\n",
      "\n",
      "\n",
      "\n",
      "MenuESPN\n",
      "\n",
      "\n",
      "\n",
      "\n",
      "\n",
      "scores\n",
      "\n",
      "\n",
      "\n",
      "\n",
      "Welcome to ESPN India Edition\n",
      "\n",
      "\n",
      "\n",
      "\n",
      "\n",
      "\n",
      "\n",
      "\n",
      "FootballCricketChessISLF1NBAHockeyOlympic SportsBadmintonMore SportsTennisWrestlingRugbyFIFA World CupMMABoxingNFLNHLShootingAthleticsGolfKabaddiWWEMLBMoto GPSpecial OlympicsNCAAMNASCARNCAAFNCAAWAsian GamesCommonwealth GamesX GamesWatch\n",
      "\n",
      "\n",
      "\n",
      "CricketHomeIPLScoresSeriesTeamsICC RankingsStats\n",
      "\n",
      "\n",
      "\n",
      "\n",
      "\n",
      "\n",
      "\n",
      "\n",
      "\n",
      "\n",
      "\n",
      "\n",
      "\n",
      "\n",
      "\n",
      "\n",
      "Favorites\n",
      "\n",
      "\n",
      "\n",
      "\n",
      "\n",
      "\n",
      "      Manage Favourites\n",
      "      \n",
      "\n",
      "\n",
      "\n",
      "Customise ESPNCreate AccountLog InESPNcricinfo Apps\n",
      "\n",
      "\n",
      "\n",
      "Android\n",
      "\n",
      "\n",
      "\n",
      "\n",
      "\n",
      "\n",
      "iOS\n",
      "\n",
      "\n",
      "Follow ESPNcricinfo\n",
      "\n",
      "\n",
      "\n",
      "\n",
      "YouTube\n",
      "\n",
      "\n",
      "\n",
      "\n",
      "\n",
      "\n",
      "\n",
      "Facebook\n",
      "\n",
      "\n",
      "\n",
      "\n",
      "\n",
      "\n",
      "\n",
      "Twitter\n",
      "\n",
      "\n",
      "\n",
      "\n",
      "\n",
      "\n",
      "\n",
      "Instagram\n",
      "\n",
      "\n",
      "ESPN Sites\n",
      "\n",
      "\n",
      "\n",
      "\n",
      "The Cricket Monthly\n",
      "\n",
      "\n",
      "\n",
      "\n",
      "\n",
      "\n",
      "\n",
      "ESPN\n",
      "\n",
      "\n",
      "INDIACRICKETSee AllBeating Pakistan not enough for Shreyas Iyer - 'We could have won a bit earlier'Iyer points to the sluggi\n"
     ]
    }
   ],
   "source": [
    "def load_data(url):\n",
    "    loader = WebBaseLoader(url)\n",
    "    docs = loader.load()\n",
    "    return docs\n",
    "st.title(\"🤖 QUBIT Chatbot\")\n",
    "user_ip = st.chat_input(\"Ask QUBIT...\")\n",
    "docs = load_data(\"https://www.espn.in/cricket/\")\n",
    "print(docs[0].page_content[:1000]) "
   ]
  },
  {
   "cell_type": "code",
   "execution_count": 4,
   "metadata": {},
   "outputs": [
    {
     "name": "stderr",
     "output_type": "stream",
     "text": [
      "C:\\Users\\athar\\AppData\\Local\\Temp\\ipykernel_6104\\4105957350.py:8: LangChainDeprecationWarning: The class `HuggingFaceEmbeddings` was deprecated in LangChain 0.2.2 and will be removed in 1.0. An updated version of the class exists in the :class:`~langchain-huggingface package and should be used instead. To use it run `pip install -U :class:`~langchain-huggingface` and import as `from :class:`~langchain_huggingface import HuggingFaceEmbeddings``.\n",
      "  embeddings = HuggingFaceEmbeddings(model_name=\"sentence-transformers/all-MiniLM-L6-v2\")\n",
      "d:\\My projects\\Custom Chatbot\\venv\\Lib\\site-packages\\tqdm\\auto.py:21: TqdmWarning: IProgress not found. Please update jupyter and ipywidgets. See https://ipywidgets.readthedocs.io/en/stable/user_install.html\n",
      "  from .autonotebook import tqdm as notebook_tqdm\n"
     ]
    },
    {
     "name": "stdout",
     "output_type": "stream",
     "text": [
      "client=SentenceTransformer(\n",
      "  (0): Transformer({'max_seq_length': 256, 'do_lower_case': False}) with Transformer model: BertModel \n",
      "  (1): Pooling({'word_embedding_dimension': 384, 'pooling_mode_cls_token': False, 'pooling_mode_mean_tokens': True, 'pooling_mode_max_tokens': False, 'pooling_mode_mean_sqrt_len_tokens': False, 'pooling_mode_weightedmean_tokens': False, 'pooling_mode_lasttoken': False, 'include_prompt': True})\n",
      "  (2): Normalize()\n",
      ") model_name='sentence-transformers/all-MiniLM-L6-v2' cache_folder=None model_kwargs={} encode_kwargs={} multi_process=False show_progress=False\n"
     ]
    }
   ],
   "source": [
    "from langchain.text_splitter import RecursiveCharacterTextSplitter\n",
    "from langchain_community.vectorstores import Chroma\n",
    "from langchain.embeddings import HuggingFaceEmbeddings\n",
    "\n",
    "text_splitter = RecursiveCharacterTextSplitter(chunk_size=500, chunk_overlap=50)\n",
    "documents = text_splitter.split_documents(docs)\n",
    "\n",
    "embeddings = HuggingFaceEmbeddings(model_name=\"sentence-transformers/all-MiniLM-L6-v2\")\n",
    "print(embeddings)\n"
   ]
  },
  {
   "cell_type": "code",
   "execution_count": 5,
   "metadata": {},
   "outputs": [
    {
     "name": "stdout",
     "output_type": "stream",
     "text": [
      "[Document(metadata={'source': 'https://www.espn.in/cricket/', 'title': 'Cricket Live Scores, Stats, Schedules, Fixtures & News', 'description': 'Get cricket scores, schedules, match commentary, team stats, fixtures, series results, video highlights, news, and more on ESPN.', 'language': 'en'}, page_content='Cricket Live Scores, Stats, Schedules, Fixtures & News\\n\\n\\n\\n\\n\\n\\n\\n\\n\\n\\n\\n\\n\\n\\n\\n\\n\\n\\n\\n\\n\\n\\n\\n\\n\\n\\n\\n\\n\\n\\n\\n\\n\\n\\n\\n\\n\\n\\n\\n\\n\\n\\n\\n\\n\\n\\n\\n\\n\\n\\n\\n\\n\\n\\n\\n\\n\\n\\n\\n\\n\\n\\n\\n\\n\\n\\n\\n\\n\\n\\n\\n\\n\\n\\n        Skip to main content\\n    \\n\\n        Skip to navigation\\n    \\n\\n\\n\\n\\n\\n\\n\\n\\n\\n\\n\\n\\n\\n\\n\\n\\n\\n\\n\\n\\n\\n\\n\\n\\n\\n\\n\\n\\n\\n\\n\\n\\n\\n<\\n\\n>\\n\\n\\n\\n\\n\\n\\n\\n\\n\\nMenuESPN\\n\\n\\n\\n\\n\\nscores\\n\\n\\n\\n\\nWelcome to ESPN India Edition'), Document(metadata={'source': 'https://www.espn.in/cricket/', 'title': 'Cricket Live Scores, Stats, Schedules, Fixtures & News', 'description': 'Get cricket scores, schedules, match commentary, team stats, fixtures, series results, video highlights, news, and more on ESPN.', 'language': 'en'}, page_content='scores\\n\\n\\n\\n\\nWelcome to ESPN India Edition\\n\\n\\n\\n\\n\\n\\n\\n\\nFootballCricketChessISLF1NBAHockeyOlympic SportsBadmintonMore SportsTennisWrestlingRugbyFIFA World CupMMABoxingNFLNHLShootingAthleticsGolfKabaddiWWEMLBMoto GPSpecial OlympicsNCAAMNASCARNCAAFNCAAWAsian GamesCommonwealth GamesX GamesWatch\\n\\n\\n\\nCricketHomeIPLScoresSeriesTeamsICC RankingsStats\\n\\n\\n\\n\\n\\n\\n\\n\\n\\n\\n\\n\\n\\n\\n\\n\\nFavorites\\n\\n\\n\\n\\n\\n\\n      Manage Favourites\\n      \\n\\n\\n\\nCustomise ESPNCreate AccountLog InESPNcricinfo Apps\\n\\n\\n\\nAndroid\\n\\n\\n\\n\\n\\n\\niOS'), Document(metadata={'source': 'https://www.espn.in/cricket/', 'title': 'Cricket Live Scores, Stats, Schedules, Fixtures & News', 'description': 'Get cricket scores, schedules, match commentary, team stats, fixtures, series results, video highlights, news, and more on ESPN.', 'language': 'en'}, page_content='Android\\n\\n\\n\\n\\n\\n\\niOS\\n\\n\\nFollow ESPNcricinfo\\n\\n\\n\\n\\nYouTube\\n\\n\\n\\n\\n\\n\\n\\nFacebook\\n\\n\\n\\n\\n\\n\\n\\nTwitter\\n\\n\\n\\n\\n\\n\\n\\nInstagram\\n\\n\\nESPN Sites\\n\\n\\n\\n\\nThe Cricket Monthly\\n\\n\\n\\n\\n\\n\\n\\nESPN'), Document(metadata={'source': 'https://www.espn.in/cricket/', 'title': 'Cricket Live Scores, Stats, Schedules, Fixtures & News', 'description': 'Get cricket scores, schedules, match commentary, team stats, fixtures, series results, video highlights, news, and more on ESPN.', 'language': 'en'}, page_content=\"INDIACRICKETSee AllBeating Pakistan not enough for Shreyas Iyer - 'We could have won a bit earlier'Iyer points to the sluggishness of the pitch and Abrar's tight spell as reasons for India not being able to bat more aggressively1dAndrew Fidel FernandoICC/Getty ImagesPakistan slide feels like a terminal, slow declineHosts now find themselves in the familiar scenario of hoping for some outlandish results to go their way2dSidharth MongaIndia vs Pakistan beyond cricket: Best moments this\"), Document(metadata={'source': 'https://www.espn.in/cricket/', 'title': 'Cricket Live Scores, Stats, Schedules, Fixtures & News', 'description': 'Get cricket scores, schedules, match commentary, team stats, fixtures, series results, video highlights, news, and more on ESPN.', 'language': 'en'}, page_content=\"vs Pakistan beyond cricket: Best moments this centuryNadeem vs Neeraj, Leander Paes' marathon epic, Dhanraj Pillay sparking a comeback for the ages and more.3dAnirudh Menon\"), Document(metadata={'source': 'https://www.espn.in/cricket/', 'title': 'Cricket Live Scores, Stats, Schedules, Fixtures & News', 'description': 'Get cricket scores, schedules, match commentary, team stats, fixtures, series results, video highlights, news, and more on ESPN.', 'language': 'en'}, page_content=\"Watch - Kohli gets to 100 and seals Indias win2d0:29\\n\\n\\nKumble: Kohli's mind looked at ease today2d2:14\\n\\n\\nCT25 - Pak vs Ind - Manjrekar - Shreyas now looks comfortable against the short ball2d2:07\\n\\n\\nCT25 - Pak vs Ind - Pakistan have let themselves down again - Urooj Mumtaz2d1:54\"), Document(metadata={'source': 'https://www.espn.in/cricket/', 'title': 'Cricket Live Scores, Stats, Schedules, Fixtures & News', 'description': 'Get cricket scores, schedules, match commentary, team stats, fixtures, series results, video highlights, news, and more on ESPN.', 'language': 'en'}, page_content=\"Kohli fastest to 14,000 ODI runs; breaks Tendulkar's recordTop HeadlinesCrawley among players released as London Spirit, Welsh Fire opt for revampsMatthew Mott joins Delhi Capitals as assistant coachShanto fears Bangladesh are 'taking it lightly' after Champions Trophy exitVenkatesh Iyer 'definitely ready' to captain KKR at IPL 2025Jaffer: Senior Bangladesh players 'just don't turn up' in ICC eventsNew Zealand, India through to Champions Trophy semi-finalsBen Stokes to miss Hundred ahead of\"), Document(metadata={'source': 'https://www.espn.in/cricket/', 'title': 'Cricket Live Scores, Stats, Schedules, Fixtures & News', 'description': 'Get cricket scores, schedules, match commentary, team stats, fixtures, series results, video highlights, news, and more on ESPN.', 'language': 'en'}, page_content=\"semi-finalsBen Stokes to miss Hundred ahead of legacy-defining Ashes winterNew ZealandCricketSee AllRavindra - Was showered with so much care after 'freak accident'The New Zealand allrounder speaks about his return to action after having suffered a forehead injury in the lead-up to the Champions Trophy15m0:34CricketSee AllRIB: CHAMPIONS TROPHY EDITIONA lookback at the history of the Champions Trophy41m11:46Ranji TrophyHigh-flying Kerala run into confident Vidarbha in final showdownVidarbha are\"), Document(metadata={'source': 'https://www.espn.in/cricket/', 'title': 'Cricket Live Scores, Stats, Schedules, Fixtures & News', 'description': 'Get cricket scores, schedules, match commentary, team stats, fixtures, series results, video highlights, news, and more on ESPN.', 'language': 'en'}, page_content='confident Vidarbha in final showdownVidarbha are chasing their third title, while this is the first time Kerala have qualified for the Ranji Trophy final53mShashank KishoreAustraliaCricketSee AllAus vs SA - Champions Trophy - Ashton Agar on Steven Smith the captain\"He\\'s got great conviction in his own ideas and his gut feel in his experience, but he\\'s also willing to try new things\"1h4:34CricketSee AllAus vs SA - Dale Steyn - I always wanted to do more than I was capable of against'), Document(metadata={'source': 'https://www.espn.in/cricket/', 'title': 'Cricket Live Scores, Stats, Schedules, Fixtures & News', 'description': 'Get cricket scores, schedules, match commentary, team stats, fixtures, series results, video highlights, news, and more on ESPN.', 'language': 'en'}, page_content=\"wanted to do more than I was capable of against AustraliaDale Steyn relives his memories from Australia vs South Africa contests he was a part of1h3:35 Top HeadlinesCrawley among players released as London Spirit, Welsh Fire opt for revampsMatthew Mott joins Delhi Capitals as assistant coachShanto fears Bangladesh are 'taking it lightly' after Champions Trophy exitVenkatesh Iyer 'definitely ready' to captain KKR at IPL 2025Jaffer: Senior Bangladesh players 'just don't turn up' in ICC eventsNew\"), Document(metadata={'source': 'https://www.espn.in/cricket/', 'title': 'Cricket Live Scores, Stats, Schedules, Fixtures & News', 'description': 'Get cricket scores, schedules, match commentary, team stats, fixtures, series results, video highlights, news, and more on ESPN.', 'language': 'en'}, page_content=\"players 'just don't turn up' in ICC eventsNew Zealand, India through to Champions Trophy semi-finalsBen Stokes to miss Hundred ahead of legacy-defining Ashes winterFavourites FantasyManage FavouritesFantasy HomeCustomise ESPNCreate AccountLog In\"), Document(metadata={'source': 'https://www.espn.in/cricket/', 'title': 'Cricket Live Scores, Stats, Schedules, Fixtures & News', 'description': 'Get cricket scores, schedules, match commentary, team stats, fixtures, series results, video highlights, news, and more on ESPN.', 'language': 'en'}, page_content='ESPNcricinfo Apps\\n\\n\\n\\nAndroid\\n\\n\\n\\n\\n\\n\\niOS\\n\\n\\nFollow ESPNcricinfo\\n\\n\\n\\n\\nYouTube\\n\\n\\n\\n\\n\\n\\n\\nFacebook\\n\\n\\n\\n\\n\\n\\n\\nTwitter\\n\\n\\n\\n\\n\\n\\n\\nInstagram\\n\\n\\nESPN Sites\\n\\n\\n\\n\\nThe Cricket Monthly\\n\\n\\n\\n\\n\\n\\n\\nESPN\\n\\n\\nTerms of UsePrivacy PolicyAddendum to the Global Privacy PolicyInterest Based AdsCopyright: © ESPN Sports Media Ltd. All rights reserved.')]\n"
     ]
    }
   ],
   "source": [
    "print(documents)"
   ]
  },
  {
   "cell_type": "code",
   "execution_count": 6,
   "metadata": {},
   "outputs": [
    {
     "data": {
      "text/plain": [
       "384"
      ]
     },
     "execution_count": 6,
     "metadata": {},
     "output_type": "execute_result"
    }
   ],
   "source": [
    "vectors = embeddings.embed_query(\"What are yo doing?\")\n",
    "len(vectors)"
   ]
  },
  {
   "cell_type": "code",
   "execution_count": 7,
   "metadata": {},
   "outputs": [
    {
     "name": "stdout",
     "output_type": "stream",
     "text": [
      "{'indexes': [{'deletion_protection': 'disabled',\n",
      "              'dimension': 384,\n",
      "              'host': 'langchain-u1s46cl.svc.aped-4627-b74a.pinecone.io',\n",
      "              'metric': 'cosine',\n",
      "              'name': 'langchain',\n",
      "              'spec': {'serverless': {'cloud': 'aws', 'region': 'us-east-1'}},\n",
      "              'status': {'ready': True, 'state': 'Ready'}}]}\n"
     ]
    }
   ],
   "source": [
    "from pinecone import Pinecone\n",
    "import os\n",
    "os.environ[\"PINECONE_API_KEY\"] = \"pcsk_748Zfb_HciVT3heHenUizcDLrZfDZX5pj9F51bzqmCfy1M7LFY7uvyxLxFbmfSF1WNTiot\"\n",
    "\n",
    "\n",
    "pc = Pinecone(api_key=os.environ[\"PINECONE_API_KEY\"])\n",
    "\n",
    "index_name = \"langchain\"\n",
    "index = pc.Index(index_name)\n",
    "print(pc.list_indexes()) "
   ]
  },
  {
   "cell_type": "code",
   "execution_count": 8,
   "metadata": {},
   "outputs": [],
   "source": [
    "\n",
    "from langchain.vectorstores import Pinecone\n",
    "\n",
    "vectorstore = Pinecone.from_documents(\n",
    "    documents=documents, \n",
    "    embedding=embeddings, \n",
    "    index_name=index_name\n",
    ")"
   ]
  },
  {
   "cell_type": "code",
   "execution_count": 9,
   "metadata": {},
   "outputs": [],
   "source": [
    "def retrieve(query,k=2):\n",
    "    res = vectorstore.similarity_search(query=query,k = k)\n",
    "    return res\n"
   ]
  },
  {
   "cell_type": "code",
   "execution_count": 10,
   "metadata": {},
   "outputs": [
    {
     "name": "stderr",
     "output_type": "stream",
     "text": [
      "C:\\Users\\athar\\AppData\\Local\\Temp\\ipykernel_6104\\3547236963.py:9: LangChainDeprecationWarning: This class is deprecated. See the following migration guides for replacements based on `chain_type`:\n",
      "stuff: https://python.langchain.com/docs/versions/migrating_chains/stuff_docs_chain\n",
      "map_reduce: https://python.langchain.com/docs/versions/migrating_chains/map_reduce_chain\n",
      "refine: https://python.langchain.com/docs/versions/migrating_chains/refine_chain\n",
      "map_rerank: https://python.langchain.com/docs/versions/migrating_chains/map_rerank_docs_chain\n",
      "\n",
      "See also guides on retrieval and question-answering here: https://python.langchain.com/docs/how_to/#qa-with-rag\n",
      "  chain = load_qa_chain(llm,chain_type=\"stuff\")\n"
     ]
    }
   ],
   "source": [
    "from langchain.chains.question_answering import load_qa_chain\n",
    "from langchain_groq import ChatGroq\n",
    "import os\n",
    "\n",
    "groq_api_key = \"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\"\n",
    "\n",
    "llm = ChatGroq(model_name=\"llama3-8b-8192\", api_key=groq_api_key)\n",
    "\n",
    "chain = load_qa_chain(llm,chain_type=\"stuff\")\n"
   ]
  },
  {
   "cell_type": "code",
   "execution_count": 11,
   "metadata": {},
   "outputs": [],
   "source": [
    "def retriever_ans(query):\n",
    "    web_search = retrieve(query)\n",
    "    print(web_search)\n",
    "    res = chain.run(input_documents=web_search,question=query)\n",
    "    return res\n",
    "\n",
    "\n"
   ]
  },
  {
   "cell_type": "code",
   "execution_count": 12,
   "metadata": {},
   "outputs": [
    {
     "name": "stdout",
     "output_type": "stream",
     "text": [
      "[Document(metadata={'description': 'Check New Zealand vs Pakistan 1st Match, Group A 2025 live cricket score from Karachi. Get the live score updates and ball by ball commentary of NZ vs PAK 1st Match, Group A, 2025. Fastest scorecard and detailed analysis of the match on ESPNcricinfo', 'language': 'en', 'source': 'https://www.espncricinfo.com/series/icc-champions-trophy-2024-25-1459031/pakistan-vs-new-zealand-1st-match-group-a-1466414/live-cricket-score', 'title': 'NZ 8/0 (2.1 ov, Will Young 4*, Devon Conway 4*, Shaheen Shah Afridi 0/3, NZ vs PAK live score, 1st Match, Group A, National Stadium, Karachi, February 19, 2025'}, page_content='Champions Trophy, Feb 19 2025 - Live Cricket ScoreLive1st Match, Group A (D/N), Karachi, February 19, 2025, ICC Champions TrophyPrevNextNew Zealand(2.1/50 ov) 8/0PakistanPakistan chose to field.Current RR: 3.69Live Forecast:NZ 277LiveScorecardLive BlogCommentaryLive StatsOversPlaying XITableVideosPhotosNewsFantasyODI CAREERBattersRB4s6sSRThis Bowlerlast 5 ovsWill Young*\\xa0(rhb)470057.143 (3b)4 (7b)Devon Conway\\xa0(lhb)461066.660 (4b)4 (6b)BowlersOMRWEcon0s4s6sThis spellShaheen Shah'), Document(metadata={'description': 'Check New Zealand vs Pakistan 1st Match, Group A 2025 live cricket score from Karachi. Get the live score updates and ball by ball commentary of NZ vs PAK 1st Match, Group A, 2025. Fastest scorecard and detailed analysis of the match on ESPNcricinfo', 'language': 'en', 'source': 'https://www.espncricinfo.com/series/icc-champions-trophy-2024-25-1459031/pakistan-vs-new-zealand-1st-match-group-a-1466414/live-cricket-score', 'title': 'NZ 8/0 (2 ov, Will Young 4*, Devon Conway 4*, Naseem Shah 0/5, NZ vs PAK live score, 1st Match, Group A, National Stadium, Karachi, February 19, 2025'}, page_content='Champions Trophy, Feb 19 2025 - Live Cricket ScoreLive1st Match, Group A (D/N), Karachi, February 19, 2025, ICC Champions TrophyPrevNextNew Zealand(2/50 ov) 8/0PakistanPakistan chose to field.Current RR: 4.00Live Forecast:NZ 274LiveScorecardLive BlogCommentaryLive StatsOversPlaying XITableVideosPhotosNewsFantasyODI CAREERBattersRB4s6sSRThis Bowlerlast 5 ovsWill Young*\\xa0(rhb)460066.661 (4b)4 (6b)Devon Conway\\xa0(lhb)461066.664 (2b)4 (6b)BowlersOMRWEcon0s4s6sThis spellNaseem Shah\\xa0(rf)10505.004101 - 0')]\n"
     ]
    },
    {
     "name": "stderr",
     "output_type": "stream",
     "text": [
      "C:\\Users\\athar\\AppData\\Local\\Temp\\ipykernel_6104\\3540746157.py:4: LangChainDeprecationWarning: The method `Chain.run` was deprecated in langchain 0.1.0 and will be removed in 1.0. Use :meth:`~invoke` instead.\n",
      "  res = chain.run(input_documents=web_search,question=query)\n"
     ]
    },
    {
     "data": {
      "text/plain": [
       "'According to the current ranking, the top ranking cricket team in the world is New Zealand.'"
      ]
     },
     "execution_count": 12,
     "metadata": {},
     "output_type": "execute_result"
    }
   ],
   "source": [
    "our_query = \"top ranking cricket team\"\n",
    "ans = retriever_ans(our_query)\n",
    "ans"
   ]
  },
  {
   "cell_type": "code",
   "execution_count": null,
   "metadata": {},
   "outputs": [],
   "source": []
  },
  {
   "cell_type": "code",
   "execution_count": 99,
   "metadata": {},
   "outputs": [
    {
     "name": "stdout",
     "output_type": "stream",
     "text": [
      " * Serving Flask app '__main__'\n",
      " * Debug mode: off\n"
     ]
    },
    {
     "name": "stderr",
     "output_type": "stream",
     "text": [
      "WARNING: This is a development server. Do not use it in a production deployment. Use a production WSGI server instead.\n",
      " * Running on http://127.0.0.1:5000\n",
      "Press CTRL+C to quit\n",
      "127.0.0.1 - - [08/Feb/2025 01:58:15] \"POST /chat HTTP/1.1\" 400 -\n",
      "127.0.0.1 - - [08/Feb/2025 01:59:43] \"GET / HTTP/1.1\" 404 -\n",
      "127.0.0.1 - - [08/Feb/2025 01:59:46] \"GET / HTTP/1.1\" 404 -\n",
      "127.0.0.1 - - [08/Feb/2025 01:59:56] \"GET /doc HTTP/1.1\" 404 -\n"
     ]
    }
   ],
   "source": [
    "from flask import Flask, request, jsonify\n",
    "from flask_restful import Api, Resource\n",
    "\n",
    "app = Flask(__name__)\n",
    "api = Api(app)\n",
    "\n",
    "class Chatbot(Resource):\n",
    "    def post(self):\n",
    "        data = request.get_json()\n",
    "        query = data.get(\"query\")\n",
    "\n",
    "        if not query:\n",
    "            return {\"error\": \"Query is required\"}, 400\n",
    "        web_search = retrieve(query)\n",
    "        response = chain.run(input_documents=web_search,question=query)\n",
    "        return {\"response\": response}\n",
    "\n",
    "api.add_resource(Chatbot, \"/chat\")\n",
    "\n",
    "if __name__ == \"__main__\":\n",
    "    app.run()\n"
   ]
  },
  {
   "cell_type": "code",
   "execution_count": null,
   "metadata": {},
   "outputs": [],
   "source": []
  }
 ],
 "metadata": {
  "kernelspec": {
   "display_name": "Python 3",
   "language": "python",
   "name": "python3"
  },
  "language_info": {
   "codemirror_mode": {
    "name": "ipython",
    "version": 3
   },
   "file_extension": ".py",
   "mimetype": "text/x-python",
   "name": "python",
   "nbconvert_exporter": "python",
   "pygments_lexer": "ipython3",
   "version": "3.13.1"
  }
 },
 "nbformat": 4,
 "nbformat_minor": 2
}
